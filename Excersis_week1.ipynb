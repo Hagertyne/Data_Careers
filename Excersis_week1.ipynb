{
 "cells": [
  {
   "cell_type": "code",
   "execution_count": 1,
   "metadata": {},
   "outputs": [],
   "source": [
    "import pandas as pd \n",
    "import numpy as numpy\n",
    "import seaborn as sborn"
   ]
  },
  {
   "cell_type": "code",
   "execution_count": null,
   "metadata": {},
   "outputs": [],
   "source": []
  },
  {
   "cell_type": "code",
   "execution_count": null,
   "metadata": {},
   "outputs": [],
   "source": []
  },
  {
   "cell_type": "code",
   "execution_count": null,
   "metadata": {},
   "outputs": [],
   "source": []
  },
  {
   "cell_type": "code",
   "execution_count": null,
   "metadata": {},
   "outputs": [],
   "source": []
  },
  {
   "cell_type": "code",
   "execution_count": null,
   "metadata": {},
   "outputs": [],
   "source": []
  },
  {
   "cell_type": "code",
   "execution_count": 3,
   "metadata": {},
   "outputs": [],
   "source": [
    "df= pd.read_csv(\"IT Salary Survey EU 2018.csv\")"
   ]
  },
  {
   "cell_type": "code",
   "execution_count": null,
   "metadata": {},
   "outputs": [],
   "source": []
  },
  {
   "cell_type": "code",
   "execution_count": null,
   "metadata": {},
   "outputs": [],
   "source": []
  },
  {
   "cell_type": "code",
   "execution_count": 3,
   "metadata": {},
   "outputs": [
    {
     "data": {
      "text/html": [
       "<div>\n",
       "<style scoped>\n",
       "    .dataframe tbody tr th:only-of-type {\n",
       "        vertical-align: middle;\n",
       "    }\n",
       "\n",
       "    .dataframe tbody tr th {\n",
       "        vertical-align: top;\n",
       "    }\n",
       "\n",
       "    .dataframe thead th {\n",
       "        text-align: right;\n",
       "    }\n",
       "</style>\n",
       "<table border=\"1\" class=\"dataframe\">\n",
       "  <thead>\n",
       "    <tr style=\"text-align: right;\">\n",
       "      <th></th>\n",
       "      <th>Timestamp</th>\n",
       "      <th>Age</th>\n",
       "      <th>Gender</th>\n",
       "      <th>City</th>\n",
       "      <th>Position</th>\n",
       "      <th>Years of experience</th>\n",
       "      <th>Your level</th>\n",
       "      <th>Current Salary</th>\n",
       "      <th>Salary one year ago</th>\n",
       "      <th>Salary two years ago</th>\n",
       "      <th>Are you getting any Stock Options?</th>\n",
       "      <th>Main language at work</th>\n",
       "      <th>Company size</th>\n",
       "      <th>Company type</th>\n",
       "    </tr>\n",
       "  </thead>\n",
       "  <tbody>\n",
       "    <tr>\n",
       "      <th>0</th>\n",
       "      <td>14/12/2018 12:41:33</td>\n",
       "      <td>43.0</td>\n",
       "      <td>M</td>\n",
       "      <td>München</td>\n",
       "      <td>QA Ingenieur</td>\n",
       "      <td>11.0</td>\n",
       "      <td>Senior</td>\n",
       "      <td>77000.0</td>\n",
       "      <td>76200.0</td>\n",
       "      <td>68000.0</td>\n",
       "      <td>No</td>\n",
       "      <td>Deutsch</td>\n",
       "      <td>100-1000</td>\n",
       "      <td>Product</td>\n",
       "    </tr>\n",
       "    <tr>\n",
       "      <th>1</th>\n",
       "      <td>14/12/2018 12:42:09</td>\n",
       "      <td>33.0</td>\n",
       "      <td>F</td>\n",
       "      <td>München</td>\n",
       "      <td>Senior PHP Magento developer</td>\n",
       "      <td>8.0</td>\n",
       "      <td>Senior</td>\n",
       "      <td>65000.0</td>\n",
       "      <td>55000.0</td>\n",
       "      <td>55000.0</td>\n",
       "      <td>No</td>\n",
       "      <td>Deutsch</td>\n",
       "      <td>50-100</td>\n",
       "      <td>Product</td>\n",
       "    </tr>\n",
       "    <tr>\n",
       "      <th>2</th>\n",
       "      <td>14/12/2018 12:47:36</td>\n",
       "      <td>32.0</td>\n",
       "      <td>M</td>\n",
       "      <td>München</td>\n",
       "      <td>Software Engineer</td>\n",
       "      <td>10.0</td>\n",
       "      <td>Senior</td>\n",
       "      <td>88000.0</td>\n",
       "      <td>73000.0</td>\n",
       "      <td>54000.0</td>\n",
       "      <td>No</td>\n",
       "      <td>Deutsch</td>\n",
       "      <td>1000+</td>\n",
       "      <td>Product</td>\n",
       "    </tr>\n",
       "    <tr>\n",
       "      <th>3</th>\n",
       "      <td>14/12/2018 12:50:15</td>\n",
       "      <td>25.0</td>\n",
       "      <td>M</td>\n",
       "      <td>München</td>\n",
       "      <td>Senior Frontend Developer</td>\n",
       "      <td>6.0</td>\n",
       "      <td>Senior</td>\n",
       "      <td>78000.0</td>\n",
       "      <td>55000.0</td>\n",
       "      <td>45000.0</td>\n",
       "      <td>Yes</td>\n",
       "      <td>English</td>\n",
       "      <td>1000+</td>\n",
       "      <td>Product</td>\n",
       "    </tr>\n",
       "    <tr>\n",
       "      <th>4</th>\n",
       "      <td>14/12/2018 12:50:31</td>\n",
       "      <td>39.0</td>\n",
       "      <td>M</td>\n",
       "      <td>München</td>\n",
       "      <td>UX Designer</td>\n",
       "      <td>10.0</td>\n",
       "      <td>Senior</td>\n",
       "      <td>69000.0</td>\n",
       "      <td>60000.0</td>\n",
       "      <td>52000.0</td>\n",
       "      <td>No</td>\n",
       "      <td>English</td>\n",
       "      <td>100-1000</td>\n",
       "      <td>Ecom retailer</td>\n",
       "    </tr>\n",
       "  </tbody>\n",
       "</table>\n",
       "</div>"
      ],
      "text/plain": [
       "             Timestamp   Age Gender     City                       Position  \\\n",
       "0  14/12/2018 12:41:33  43.0      M  München                   QA Ingenieur   \n",
       "1  14/12/2018 12:42:09  33.0      F  München  Senior PHP Magento developer    \n",
       "2  14/12/2018 12:47:36  32.0      M  München              Software Engineer   \n",
       "3  14/12/2018 12:50:15  25.0      M  München      Senior Frontend Developer   \n",
       "4  14/12/2018 12:50:31  39.0      M  München                    UX Designer   \n",
       "\n",
       "   Years of experience Your level  Current Salary  Salary one year ago  \\\n",
       "0                 11.0     Senior         77000.0              76200.0   \n",
       "1                  8.0     Senior         65000.0              55000.0   \n",
       "2                 10.0     Senior         88000.0              73000.0   \n",
       "3                  6.0     Senior         78000.0              55000.0   \n",
       "4                 10.0     Senior         69000.0              60000.0   \n",
       "\n",
       "   Salary two years ago Are you getting any Stock Options?  \\\n",
       "0               68000.0                                 No   \n",
       "1               55000.0                                 No   \n",
       "2               54000.0                                 No   \n",
       "3               45000.0                                Yes   \n",
       "4               52000.0                                 No   \n",
       "\n",
       "  Main language at work Company size   Company type  \n",
       "0               Deutsch     100-1000        Product  \n",
       "1               Deutsch       50-100        Product  \n",
       "2               Deutsch        1000+        Product  \n",
       "3               English        1000+        Product  \n",
       "4               English     100-1000  Ecom retailer  "
      ]
     },
     "execution_count": 3,
     "metadata": {},
     "output_type": "execute_result"
    }
   ],
   "source": [
    "df.head()"
   ]
  },
  {
   "cell_type": "code",
   "execution_count": 4,
   "metadata": {},
   "outputs": [
    {
     "data": {
      "text/plain": [
       "(765, 14)"
      ]
     },
     "execution_count": 4,
     "metadata": {},
     "output_type": "execute_result"
    }
   ],
   "source": [
    "df.shape"
   ]
  },
  {
   "cell_type": "code",
   "execution_count": 5,
   "metadata": {},
   "outputs": [
    {
     "data": {
      "text/html": [
       "<div>\n",
       "<style scoped>\n",
       "    .dataframe tbody tr th:only-of-type {\n",
       "        vertical-align: middle;\n",
       "    }\n",
       "\n",
       "    .dataframe tbody tr th {\n",
       "        vertical-align: top;\n",
       "    }\n",
       "\n",
       "    .dataframe thead th {\n",
       "        text-align: right;\n",
       "    }\n",
       "</style>\n",
       "<table border=\"1\" class=\"dataframe\">\n",
       "  <thead>\n",
       "    <tr style=\"text-align: right;\">\n",
       "      <th></th>\n",
       "      <th>Timestamp</th>\n",
       "      <th>Age</th>\n",
       "      <th>Gender</th>\n",
       "      <th>City</th>\n",
       "      <th>Position</th>\n",
       "      <th>Years of experience</th>\n",
       "      <th>Your level</th>\n",
       "      <th>Current Salary</th>\n",
       "      <th>Salary one year ago</th>\n",
       "      <th>Salary two years ago</th>\n",
       "      <th>Are you getting any Stock Options?</th>\n",
       "      <th>Main language at work</th>\n",
       "      <th>Company size</th>\n",
       "      <th>Company type</th>\n",
       "    </tr>\n",
       "  </thead>\n",
       "  <tbody>\n",
       "    <tr>\n",
       "      <th>760</th>\n",
       "      <td>03/06/2020 20:12:51</td>\n",
       "      <td>40.0</td>\n",
       "      <td>M</td>\n",
       "      <td>Köln</td>\n",
       "      <td>Java Developer junior</td>\n",
       "      <td>1.0</td>\n",
       "      <td>Junior</td>\n",
       "      <td>44000.0</td>\n",
       "      <td>40000.0</td>\n",
       "      <td>40000.0</td>\n",
       "      <td>Yes</td>\n",
       "      <td>Deutsch</td>\n",
       "      <td>10-50</td>\n",
       "      <td>Product</td>\n",
       "    </tr>\n",
       "    <tr>\n",
       "      <th>761</th>\n",
       "      <td>28/07/2020 04:03:13</td>\n",
       "      <td>NaN</td>\n",
       "      <td>M</td>\n",
       "      <td>Köln</td>\n",
       "      <td>E.g. C# Developer</td>\n",
       "      <td>1.0</td>\n",
       "      <td>Junior</td>\n",
       "      <td>45000.0</td>\n",
       "      <td>40000.0</td>\n",
       "      <td>40000.0</td>\n",
       "      <td>Yes</td>\n",
       "      <td>Deutsch</td>\n",
       "      <td>10-50</td>\n",
       "      <td>Product</td>\n",
       "    </tr>\n",
       "    <tr>\n",
       "      <th>762</th>\n",
       "      <td>28/07/2020 04:03:20</td>\n",
       "      <td>NaN</td>\n",
       "      <td>M</td>\n",
       "      <td>Köln</td>\n",
       "      <td>E.g. C# Developer</td>\n",
       "      <td>1.0</td>\n",
       "      <td>Junior</td>\n",
       "      <td>45000.0</td>\n",
       "      <td>40000.0</td>\n",
       "      <td>40000.0</td>\n",
       "      <td>Yes</td>\n",
       "      <td>Deutsch</td>\n",
       "      <td>10-50</td>\n",
       "      <td>Product</td>\n",
       "    </tr>\n",
       "    <tr>\n",
       "      <th>763</th>\n",
       "      <td>26/08/2020 09:06:44</td>\n",
       "      <td>NaN</td>\n",
       "      <td>NaN</td>\n",
       "      <td>NaN</td>\n",
       "      <td>NaN</td>\n",
       "      <td>NaN</td>\n",
       "      <td>NaN</td>\n",
       "      <td>NaN</td>\n",
       "      <td>NaN</td>\n",
       "      <td>NaN</td>\n",
       "      <td>NaN</td>\n",
       "      <td>NaN</td>\n",
       "      <td>NaN</td>\n",
       "      <td>NaN</td>\n",
       "    </tr>\n",
       "    <tr>\n",
       "      <th>764</th>\n",
       "      <td>21/09/2020 01:47:10</td>\n",
       "      <td>31.0</td>\n",
       "      <td>F</td>\n",
       "      <td>München</td>\n",
       "      <td>Pm</td>\n",
       "      <td>10.0</td>\n",
       "      <td>Senior</td>\n",
       "      <td>110000.0</td>\n",
       "      <td>NaN</td>\n",
       "      <td>NaN</td>\n",
       "      <td>No</td>\n",
       "      <td>English</td>\n",
       "      <td>1000+</td>\n",
       "      <td>Product</td>\n",
       "    </tr>\n",
       "  </tbody>\n",
       "</table>\n",
       "</div>"
      ],
      "text/plain": [
       "               Timestamp   Age Gender     City               Position  \\\n",
       "760  03/06/2020 20:12:51  40.0      M     Köln  Java Developer junior   \n",
       "761  28/07/2020 04:03:13   NaN      M     Köln      E.g. C# Developer   \n",
       "762  28/07/2020 04:03:20   NaN      M     Köln      E.g. C# Developer   \n",
       "763  26/08/2020 09:06:44   NaN    NaN      NaN                    NaN   \n",
       "764  21/09/2020 01:47:10  31.0      F  München                    Pm    \n",
       "\n",
       "     Years of experience Your level  Current Salary  Salary one year ago  \\\n",
       "760                  1.0     Junior         44000.0              40000.0   \n",
       "761                  1.0     Junior         45000.0              40000.0   \n",
       "762                  1.0     Junior         45000.0              40000.0   \n",
       "763                  NaN        NaN             NaN                  NaN   \n",
       "764                 10.0     Senior        110000.0                  NaN   \n",
       "\n",
       "     Salary two years ago Are you getting any Stock Options?  \\\n",
       "760               40000.0                                Yes   \n",
       "761               40000.0                                Yes   \n",
       "762               40000.0                                Yes   \n",
       "763                   NaN                                NaN   \n",
       "764                   NaN                                 No   \n",
       "\n",
       "    Main language at work Company size Company type  \n",
       "760               Deutsch        10-50      Product  \n",
       "761               Deutsch        10-50      Product  \n",
       "762               Deutsch        10-50      Product  \n",
       "763                   NaN          NaN          NaN  \n",
       "764               English        1000+      Product  "
      ]
     },
     "execution_count": 5,
     "metadata": {},
     "output_type": "execute_result"
    }
   ],
   "source": [
    "df.tail()"
   ]
  },
  {
   "cell_type": "code",
   "execution_count": 6,
   "metadata": {},
   "outputs": [
    {
     "data": {
      "text/plain": [
       "Timestamp                             765\n",
       "Age                                   672\n",
       "Gender                                751\n",
       "City                                  736\n",
       "Position                              737\n",
       "Years of experience                   732\n",
       "Your level                            743\n",
       "Current Salary                        750\n",
       "Salary one year ago                   596\n",
       "Salary two years ago                  463\n",
       "Are you getting any Stock Options?    742\n",
       "Main language at work                 750\n",
       "Company size                          750\n",
       "Company type                          730\n",
       "dtype: int64"
      ]
     },
     "execution_count": 6,
     "metadata": {},
     "output_type": "execute_result"
    }
   ],
   "source": [
    "df.count()"
   ]
  },
  {
   "cell_type": "code",
   "execution_count": 7,
   "metadata": {},
   "outputs": [
    {
     "name": "stdout",
     "output_type": "stream",
     "text": [
      "<class 'pandas.core.frame.DataFrame'>\n",
      "RangeIndex: 765 entries, 0 to 764\n",
      "Data columns (total 14 columns):\n",
      " #   Column                              Non-Null Count  Dtype  \n",
      "---  ------                              --------------  -----  \n",
      " 0   Timestamp                           765 non-null    object \n",
      " 1   Age                                 672 non-null    float64\n",
      " 2   Gender                              751 non-null    object \n",
      " 3   City                                736 non-null    object \n",
      " 4   Position                            737 non-null    object \n",
      " 5   Years of experience                 732 non-null    float64\n",
      " 6   Your level                          743 non-null    object \n",
      " 7   Current Salary                      750 non-null    float64\n",
      " 8   Salary one year ago                 596 non-null    float64\n",
      " 9   Salary two years ago                463 non-null    float64\n",
      " 10  Are you getting any Stock Options?  742 non-null    object \n",
      " 11  Main language at work               750 non-null    object \n",
      " 12  Company size                        750 non-null    object \n",
      " 13  Company type                        730 non-null    object \n",
      "dtypes: float64(5), object(9)\n",
      "memory usage: 83.8+ KB\n"
     ]
    }
   ],
   "source": [
    "df.info()"
   ]
  },
  {
   "cell_type": "code",
   "execution_count": 8,
   "metadata": {},
   "outputs": [
    {
     "data": {
      "text/html": [
       "<div>\n",
       "<style scoped>\n",
       "    .dataframe tbody tr th:only-of-type {\n",
       "        vertical-align: middle;\n",
       "    }\n",
       "\n",
       "    .dataframe tbody tr th {\n",
       "        vertical-align: top;\n",
       "    }\n",
       "\n",
       "    .dataframe thead th {\n",
       "        text-align: right;\n",
       "    }\n",
       "</style>\n",
       "<table border=\"1\" class=\"dataframe\">\n",
       "  <thead>\n",
       "    <tr style=\"text-align: right;\">\n",
       "      <th></th>\n",
       "      <th>Age</th>\n",
       "      <th>Years of experience</th>\n",
       "      <th>Current Salary</th>\n",
       "      <th>Salary one year ago</th>\n",
       "      <th>Salary two years ago</th>\n",
       "    </tr>\n",
       "  </thead>\n",
       "  <tbody>\n",
       "    <tr>\n",
       "      <th>count</th>\n",
       "      <td>672.000000</td>\n",
       "      <td>732.000000</td>\n",
       "      <td>750.000000</td>\n",
       "      <td>596.000000</td>\n",
       "      <td>463.000000</td>\n",
       "    </tr>\n",
       "    <tr>\n",
       "      <th>mean</th>\n",
       "      <td>32.183036</td>\n",
       "      <td>8.548497</td>\n",
       "      <td>68381.765333</td>\n",
       "      <td>62187.278523</td>\n",
       "      <td>58013.475162</td>\n",
       "    </tr>\n",
       "    <tr>\n",
       "      <th>std</th>\n",
       "      <td>5.107268</td>\n",
       "      <td>4.729557</td>\n",
       "      <td>21196.306557</td>\n",
       "      <td>20163.008663</td>\n",
       "      <td>20413.048908</td>\n",
       "    </tr>\n",
       "    <tr>\n",
       "      <th>min</th>\n",
       "      <td>21.000000</td>\n",
       "      <td>0.000000</td>\n",
       "      <td>10300.000000</td>\n",
       "      <td>10001.000000</td>\n",
       "      <td>10001.000000</td>\n",
       "    </tr>\n",
       "    <tr>\n",
       "      <th>25%</th>\n",
       "      <td>29.000000</td>\n",
       "      <td>5.000000</td>\n",
       "      <td>57000.000000</td>\n",
       "      <td>52000.000000</td>\n",
       "      <td>48000.000000</td>\n",
       "    </tr>\n",
       "    <tr>\n",
       "      <th>50%</th>\n",
       "      <td>32.000000</td>\n",
       "      <td>8.000000</td>\n",
       "      <td>65000.000000</td>\n",
       "      <td>60000.000000</td>\n",
       "      <td>56000.000000</td>\n",
       "    </tr>\n",
       "    <tr>\n",
       "      <th>75%</th>\n",
       "      <td>35.000000</td>\n",
       "      <td>11.000000</td>\n",
       "      <td>75000.000000</td>\n",
       "      <td>70000.000000</td>\n",
       "      <td>67000.000000</td>\n",
       "    </tr>\n",
       "    <tr>\n",
       "      <th>max</th>\n",
       "      <td>60.000000</td>\n",
       "      <td>38.000000</td>\n",
       "      <td>200000.000000</td>\n",
       "      <td>200000.000000</td>\n",
       "      <td>150000.000000</td>\n",
       "    </tr>\n",
       "  </tbody>\n",
       "</table>\n",
       "</div>"
      ],
      "text/plain": [
       "              Age  Years of experience  Current Salary  Salary one year ago  \\\n",
       "count  672.000000           732.000000      750.000000           596.000000   \n",
       "mean    32.183036             8.548497    68381.765333         62187.278523   \n",
       "std      5.107268             4.729557    21196.306557         20163.008663   \n",
       "min     21.000000             0.000000    10300.000000         10001.000000   \n",
       "25%     29.000000             5.000000    57000.000000         52000.000000   \n",
       "50%     32.000000             8.000000    65000.000000         60000.000000   \n",
       "75%     35.000000            11.000000    75000.000000         70000.000000   \n",
       "max     60.000000            38.000000   200000.000000        200000.000000   \n",
       "\n",
       "       Salary two years ago  \n",
       "count            463.000000  \n",
       "mean           58013.475162  \n",
       "std            20413.048908  \n",
       "min            10001.000000  \n",
       "25%            48000.000000  \n",
       "50%            56000.000000  \n",
       "75%            67000.000000  \n",
       "max           150000.000000  "
      ]
     },
     "execution_count": 8,
     "metadata": {},
     "output_type": "execute_result"
    }
   ],
   "source": [
    "df.describe()"
   ]
  },
  {
   "cell_type": "code",
   "execution_count": 10,
   "metadata": {},
   "outputs": [
    {
     "data": {
      "text/plain": [
       "array(['QA Ingenieur', 'Senior PHP Magento developer ',\n",
       "       'Software Engineer', 'Senior Frontend Developer', 'UX Designer',\n",
       "       'Project Manager', 'Senior Android Developer',\n",
       "       'Data science team lead', 'Test Automation Engineer',\n",
       "       'Frontend Developer', 'Senior Full-stack .Net Developer',\n",
       "       'QA Lead', 'Front-end engineer', 'Software Developer',\n",
       "       'QA Test Engineer', 'QA Manager', 'CTO', 'Cloud Consulting', 'QA',\n",
       "       'Frontend Engineer', 'Head of IT', 'Senior Software Engineer',\n",
       "       'Operations manager', 'Product Manager',\n",
       "       'Software engineer ( React/React-native )', 'iOS Developer ',\n",
       "       'Senior DevOps', 'C# Developer', 'ERP/BI Specialist',\n",
       "       'Full stack developer', 'Systems Administrator',\n",
       "       'Senior Software Developer', 'C++ developer', 'PM',\n",
       "       'Android Developer', 'Software Architect',\n",
       "       'Embedded Software Engineer', 'iOS developer', 'Data Engineer',\n",
       "       'iOS Developer', 'PHP Developer', 'Ruby developer',\n",
       "       'Embedded engineer', 'Java Fullstack Developer',\n",
       "       'Mobile App Developer', 'Scala Developer', 'DevOps', 'Consultant',\n",
       "       'BA/PM', 'DevOps Engineer', 'C++ Software Enginеer',\n",
       "       'Automation QA', 'Java Developer', 'Backend Developer',\n",
       "       'Frontend developer', 'SDET', 'Technical Lead', 'FrontEnd dev',\n",
       "       'Technical product manager', 'Javascript software developer', nan,\n",
       "       'Graphic Designer', 'Manager', 'Senior/Lead Developer',\n",
       "       'Senior QA', 'Technical Product Manager', 'Mobile Lead',\n",
       "       'Front-end developer', 'Data scientist', 'Head of Product ',\n",
       "       'Research Engineer', 'PHP Backend Developer', 'SW Developer',\n",
       "       'Senior Engineer (PHP)', 'webdev', 'Web Developer ', 'QA ',\n",
       "       'Machine Learning Engineer', 'Data Scientist',\n",
       "       'Principal Software Engineer', 'FrontEnd Developer',\n",
       "       'Senior Javascript Engineer', 'Engineering Manager', 'SDE',\n",
       "       'Python dev', 'QA Engineer ', 'Android developer ', 'Web Designer',\n",
       "       'Senior Software Engineer ', 'Senior Backend Developer',\n",
       "       'Agile coach', 'MTS', ' .Net Developer', 'Python developer',\n",
       "       'Embedded Developer', '.NET developer',\n",
       "       'Seniour software developer', 'Junior IT Manager',\n",
       "       'Full stack developer ', 'IT Project Manager', 'Business Analyst',\n",
       "       'fullstack developer', 'Frontent Developer',\n",
       "       'Senior Java Developer', 'Scala developer', 'UX/UI designer',\n",
       "       'Senior Java', 'SRE', 'developer', 'DBA', 'Computational Linguist',\n",
       "       'SAP Basis Administrator', 'Programmierer/Consultant',\n",
       "       'Full stack engineer', 'Software engineer',\n",
       "       'Database Administrator', 'Software Engineer JavaSctipt',\n",
       "       'Developer', 'Head of Engineering', 'product manager', 'Angular',\n",
       "       'Full Stack Developer', 'Mobile developer',\n",
       "       'Software Engineer (Android)', 'SAP Consultant', 'QA Engineer',\n",
       "       'Computer Vision Engineer', 'Digital Project Manager',\n",
       "       'Backend developer', 'Machine Learning Engineet',\n",
       "       'Lead Software Engineer', 'Head of Development', '.net',\n",
       "       'IT Consultant', 'Embedded SW Developer', 'C++ Developer ',\n",
       "       'System Engineer', 'Marketing Manager', 'Software developer',\n",
       "       'Erlang Developer', 'backend developer', 'Engineer', 'IT admin',\n",
       "       'Senior Ruby Developer', 'Senior Backend Engineer',\n",
       "       'Senior software engineer', 'Senior Data Scientist',\n",
       "       'Fullstack JS', 'Java developer', 'Principal Engineer ', 'PHP Dev',\n",
       "       'Big Data Engineer', 'C++ Developer', 'Java Developer ',\n",
       "       'Sysadmin', 'Low level software developer', 'Full-stack Developer',\n",
       "       'Site Reliability engineer ', 'Project manager',\n",
       "       'Software Engineer ', 'Architect', 'Sales ops team lead ',\n",
       "       'Manual QA', 'Head of BI', 'Senior PHP Developer', 'Fullstack',\n",
       "       'Team Lead', 'PD', 'IT Berater', 'Java & JS Developer',\n",
       "       'Java developer ', 'Frontend developer ', 'DevOps engineer ',\n",
       "       'web developer', 'Senior Software engineer C++',\n",
       "       'network engineer ', 'C# Developer ', 'Senior Sys Admin',\n",
       "       'Senior PHP developer', 'QA Consultant ', 'TA Engineer',\n",
       "       'Senior software engineer ', 'Java script', 'Frontend',\n",
       "       'Lead DevOps', 'Hardware Engineer ', 'System Administrator',\n",
       "       'Python Developer', 'Javascript Developer in Test', 'CEO',\n",
       "       'Front-end developer ', 'DevOps Architect ', 'BI Developer',\n",
       "       'SEM Manager', 'IOS developer ', 'Lead developer',\n",
       "       'Software Engineer 2(Frontend)', 'QA Automation Engineer',\n",
       "       'Systems engineer', 'Oracle Developer', 'Oracle Pl/SQL Developer',\n",
       "       'BI developer', 'Senior JS Enigneer', 'Perl/Java Developer',\n",
       "       'Python Test Automation Engineer', 'Senior .Net developer',\n",
       "       'C++ Engineer', 'IT Administration', 'iOS developer ',\n",
       "       'Scala\\\\Java', 'Full-Stack Web Developer', 'Go Developer',\n",
       "       'ios developer', 'Senior Fullstack', 'Java Software Engineer ',\n",
       "       'Senior Web Developer ', 'Java/JS Developer',\n",
       "       'Senior Software Engineer (Data Engineer)', 'IT-Consultant',\n",
       "       'System administrator', 'Team lead PHP', 'Web Analytics Manager',\n",
       "       'Deep Learning Researcher (PHD)', 'Software Architekt ',\n",
       "       'Solution Engineer', 'Senior SQL Server DBA/Developer',\n",
       "       'QA Automation', 'Senior Software Ingenieur Java',\n",
       "       '.net developer ', 'Lead Architect', 'Quality engineer', 'Devops',\n",
       "       'Scrum Master', 'Software Test Engineer', 'Sr. JS Developer',\n",
       "       'Javascript Developer', 'SAP Business Analyst',\n",
       "       'Business Intelligence Analyst', 'Product manager',\n",
       "       'Software Developer (Python Backend)', 'System administrator ',\n",
       "       'Designer', 'CTO ', 'Lead Developer', 'java fullsteck developer',\n",
       "       'Unreal Engine Developer, System Architect', 'Tech lead',\n",
       "       'JavaScript Developer', 'Software engineer ',\n",
       "       'Senior iOS Developer', 'Test Engineer', 'DB Developer',\n",
       "       'Ruby Developer', 'SAP Consulter/ABAP Developer ',\n",
       "       'Business Analyst/RE', 'C++ sr. s/w dev', 'Android dev',\n",
       "       'Senior Web Deleloper', 'Automation Test Engineer', 'SSE',\n",
       "       'Web Developer', 'Senior .Net Developer', 'Front End Engineer',\n",
       "       'Werkstudent Testautomatisierung', 'ios вумудщзук',\n",
       "       'iOS Developwr', '.NET Developer', 'C++ Software Engineer',\n",
       "       'Software Development Engineer', 'Engineering consultant',\n",
       "       'Android developer', 'java developer', 'System Architect',\n",
       "       'PHP Full Stack Developer', 'System Analyst', 'DevOps engineer',\n",
       "       'Senior quant', 'Data Developer', 'Data Processing Specialist',\n",
       "       'Senior Software engineer', 'Senior Automation Test Engineer',\n",
       "       'Operations', 'Golang developer', 'Softwaredeveloper',\n",
       "       'Front End developer', 'DevOps (MS Stack)', 'Head of Data Science',\n",
       "       'DevOps Architect', 'Sr. Engineer', 'qa ta architect',\n",
       "       'Head of Software Engineering ', 'Quality Engineer', 'Java dev',\n",
       "       'PHP developer', 'Staff Technical Product Manager',\n",
       "       'PHP Tech Lead', 'UI Designer', 'Pyhon developer',\n",
       "       'C++ Software Developer', 'Java Team Lead', 'Quality assurance',\n",
       "       'DB ', 'Fullstack Engineer', 'Senior automation qa',\n",
       "       'QA automation ', 'PL SQL / C#', 'Senior Consulter', 'devops',\n",
       "       'Cloud Architect', 'SharePoint Developer', 'Big Data Developer ',\n",
       "       'DWH expert', 'Senior Full stack developer', 'Android dev.',\n",
       "       'Senior Embedded Developer', 'C#.net Developer', 'It security ',\n",
       "       'Deep Learning Engineer', 'Application Engineer ',\n",
       "       'Software Engineer (java)', 'Senior Data Engineer',\n",
       "       'android developer', 'PHP Symfony', 'C#',\n",
       "       'Java Full-Stack Developer', 'IT Infrastructure consultant', '1С',\n",
       "       'Hardware Developer', 'Software Tester', 'Web-Entwickler',\n",
       "       'Architekt', 'ML/Research (30 hours weekly)',\n",
       "       'Electrical Engineer', 'Research Scientist (AI)',\n",
       "       'Senior Research Engineer', 'Sr project manager',\n",
       "       '.net c# developer', 'C++ Lead Developer', 'Network engineer',\n",
       "       'data scientist', 'Security Researcher', 'team lead',\n",
       "       'Senior javascript developer', 'Senior .NET Engineer',\n",
       "       'Data Science Team Lead', 'Product Security Engineer',\n",
       "       'Php developer', 'Javascript Engineer', 'IT recruiter ',\n",
       "       'NAV Developer ', 'C++  developer', 'Solution Architect',\n",
       "       'Senior iOS developer', 'System Administrator (Windows)',\n",
       "       'Lead Java Developer', 'DWH Developer', 'Software Developer ',\n",
       "       'Backend Engineer', 'Senior Software Testing Engineer',\n",
       "       'Full-stack developer', 'qa', 'Sap developer', 'Full stack',\n",
       "       'Senior Sotfware Engineer (Typescript/Javascript)', 'c# developer',\n",
       "       'Data analyst', 'c++', '.net developer', 'Projectingenieur',\n",
       "       'Gruppenleiter Testing', ' Java Developer', 'Teamlead',\n",
       "       'Director of Engineering', 'Solutions architect', 'PCB Designer',\n",
       "       'IT специалист', 'Front End Developer ', 'Associate IT Consultant',\n",
       "       'C# dev', 'Java Script developer', 'BI Consultant',\n",
       "       'Senior Tech recruiter', 'Computer Vision Intern',\n",
       "       'Devops Engineer', 'Software tester', 'Producer',\n",
       "       'Senior QA Engineer', 'Senior Java developer', 'SAP Developer',\n",
       "       'Sr. Database Entwickler (Oracle/Java)', '32',\n",
       "       'Lead software engineer', 'Project Manager ', 'Softwareentwickler',\n",
       "       'IT Engineer', 'Java Developer junior', 'E.g. C# Developer', 'Pm '],\n",
       "      dtype=object)"
      ]
     },
     "execution_count": 10,
     "metadata": {},
     "output_type": "execute_result"
    }
   ],
   "source": [
    "df.Position.unique()"
   ]
  },
  {
   "cell_type": "code",
   "execution_count": 11,
   "metadata": {},
   "outputs": [
    {
     "data": {
      "text/plain": [
       "60.0"
      ]
     },
     "execution_count": 11,
     "metadata": {},
     "output_type": "execute_result"
    }
   ],
   "source": [
    "df.Age.max()"
   ]
  },
  {
   "cell_type": "code",
   "execution_count": 12,
   "metadata": {},
   "outputs": [
    {
     "data": {
      "text/plain": [
       "array(['München', 'Berlin', 'Karlsruhe', 'Hamburg', 'Augsburg ', 'Bremen',\n",
       "       'Frankfurt', nan, 'Regensburg', 'Lisbon', 'Leipzig', 'Stuttgart',\n",
       "       'Amsterdam', 'Luxembourg', 'Bern', 'Bonn', 'Köln',\n",
       "       'Baden-Württemberg ', 'Frankonia', 'Stuttgart ', 'Mannheim ',\n",
       "       'Bayern', 'Tübingen', 'Brno', 'Dresden', 'Krakow', 'Dublin',\n",
       "       'Eindhoven', 'Amsterdam ', 'Konstanz', 'Dublin ', 'Prague',\n",
       "       'Moscow', 'Stockholm', 'Belgrade, Serbia', 'Kyiv', 'Nürnberg',\n",
       "       'Karlskrona', 'Krakau', 'Vienna', 'London', 'Bitburg', 'Gdansk',\n",
       "       'Poland', 'Düsseldorf', 'Ludwigsburg', 'Essen', 'Strasbourg',\n",
       "       'Alicante, Spain', 'Warsaw', 'Memmingen', 'Tallinn', 'Zurich',\n",
       "       'oslo', 'Münster', 'Hildesheim', 'Krakow, Poland', 'Rosenheim',\n",
       "       'Darmstadt', 'bremen', 'Brussels', 'Nürnberg ',\n",
       "       'Schleswig-Holstein', 'Riga', 'Koblenz', 'homeoffice', 'Limassol',\n",
       "       'saint petersburg', 'Erlangen', 'Siegen', 'Remote Germany',\n",
       "       'Ireland, Dublin', 'Oberhausen', 'estonia', 'Andernach'],\n",
       "      dtype=object)"
      ]
     },
     "execution_count": 12,
     "metadata": {},
     "output_type": "execute_result"
    }
   ],
   "source": [
    "df.City.unique()"
   ]
  },
  {
   "cell_type": "code",
   "execution_count": 13,
   "metadata": {},
   "outputs": [
    {
     "data": {
      "text/plain": [
       "21.0"
      ]
     },
     "execution_count": 13,
     "metadata": {},
     "output_type": "execute_result"
    }
   ],
   "source": [
    "df.Age.min()"
   ]
  },
  {
   "cell_type": "code",
   "execution_count": 14,
   "metadata": {},
   "outputs": [
    {
     "data": {
      "text/plain": [
       "0      False\n",
       "1      False\n",
       "2      False\n",
       "3      False\n",
       "4      False\n",
       "       ...  \n",
       "760    False\n",
       "761    False\n",
       "762    False\n",
       "763    False\n",
       "764    False\n",
       "Length: 765, dtype: bool"
      ]
     },
     "execution_count": 14,
     "metadata": {},
     "output_type": "execute_result"
    }
   ],
   "source": [
    "df.duplicated()"
   ]
  },
  {
   "cell_type": "code",
   "execution_count": 16,
   "metadata": {},
   "outputs": [
    {
     "data": {
      "text/plain": [
       "0"
      ]
     },
     "execution_count": 16,
     "metadata": {},
     "output_type": "execute_result"
    }
   ],
   "source": [
    "df.duplicated().sum()"
   ]
  },
  {
   "cell_type": "code",
   "execution_count": 20,
   "metadata": {},
   "outputs": [
    {
     "data": {
      "text/plain": [
       "array(['M', 'F', nan], dtype=object)"
      ]
     },
     "execution_count": 20,
     "metadata": {},
     "output_type": "execute_result"
    }
   ],
   "source": [
    "df['Gender'].unique()"
   ]
  },
  {
   "cell_type": "code",
   "execution_count": 26,
   "metadata": {},
   "outputs": [
    {
     "name": "stderr",
     "output_type": "stream",
     "text": [
      "c:\\Users\\777\\anacondaPy\\lib\\site-packages\\seaborn\\_decorators.py:36: FutureWarning: Pass the following variable as a keyword arg: x. From version 0.12, the only valid positional argument will be `data`, and passing other arguments without an explicit keyword will result in an error or misinterpretation.\n",
      "  warnings.warn(\n"
     ]
    },
    {
     "data": {
      "text/plain": [
       "<AxesSubplot:ylabel='count'>"
      ]
     },
     "execution_count": 26,
     "metadata": {},
     "output_type": "execute_result"
    },
    {
     "data": {
      "image/png": "[encoded data removed]",
      "text/plain": [
       "<Figure size 432x288 with 1 Axes>"
      ]
     },
     "metadata": {
      "needs_background": "light"
     },
     "output_type": "display_data"
    }
   ],
   "source": [
    "sborn.countplot(df['Position'].unique())"
   ]
  },
  {
   "cell_type": "code",
   "execution_count": 28,
   "metadata": {},
   "outputs": [
    {
     "data": {
      "text/plain": [
       "Timestamp                               0\n",
       "Age                                    93\n",
       "Gender                                 14\n",
       "City                                   29\n",
       "Position                               28\n",
       "Years of experience                    33\n",
       "Your level                             22\n",
       "Current Salary                         15\n",
       "Salary one year ago                   169\n",
       "Salary two years ago                  302\n",
       "Are you getting any Stock Options?     23\n",
       "Main language at work                  15\n",
       "Company size                           15\n",
       "Company type                           35\n",
       "dtype: int64"
      ]
     },
     "execution_count": 28,
     "metadata": {},
     "output_type": "execute_result"
    }
   ],
   "source": [
    "#find null values\n",
    "df.isnull().sum()"
   ]
  },
  {
   "cell_type": "code",
   "execution_count": 30,
   "metadata": {},
   "outputs": [],
   "source": [
    "#Replace null values\n",
    "df.replace(numpy.nan,'0',inplace=True)"
   ]
  },
  {
   "cell_type": "code",
   "execution_count": 31,
   "metadata": {},
   "outputs": [
    {
     "data": {
      "text/plain": [
       "Timestamp                             0\n",
       "Age                                   0\n",
       "Gender                                0\n",
       "City                                  0\n",
       "Position                              0\n",
       "Years of experience                   0\n",
       "Your level                            0\n",
       "Current Salary                        0\n",
       "Salary one year ago                   0\n",
       "Salary two years ago                  0\n",
       "Are you getting any Stock Options?    0\n",
       "Main language at work                 0\n",
       "Company size                          0\n",
       "Company type                          0\n",
       "dtype: int64"
      ]
     },
     "execution_count": 31,
     "metadata": {},
     "output_type": "execute_result"
    }
   ],
   "source": [
    "df.isnull().sum()"
   ]
  },
  {
   "cell_type": "code",
   "execution_count": 32,
   "metadata": {},
   "outputs": [
    {
     "data": {
      "text/plain": [
       "Timestamp                             object\n",
       "Age                                   object\n",
       "Gender                                object\n",
       "City                                  object\n",
       "Position                              object\n",
       "Years of experience                   object\n",
       "Your level                            object\n",
       "Current Salary                        object\n",
       "Salary one year ago                   object\n",
       "Salary two years ago                  object\n",
       "Are you getting any Stock Options?    object\n",
       "Main language at work                 object\n",
       "Company size                          object\n",
       "Company type                          object\n",
       "dtype: object"
      ]
     },
     "execution_count": 32,
     "metadata": {},
     "output_type": "execute_result"
    }
   ],
   "source": [
    "df.dtypes"
   ]
  },
  {
   "cell_type": "code",
   "execution_count": 37,
   "metadata": {},
   "outputs": [
    {
     "data": {
      "text/html": [
       "<div>\n",
       "<style scoped>\n",
       "    .dataframe tbody tr th:only-of-type {\n",
       "        vertical-align: middle;\n",
       "    }\n",
       "\n",
       "    .dataframe tbody tr th {\n",
       "        vertical-align: top;\n",
       "    }\n",
       "\n",
       "    .dataframe thead th {\n",
       "        text-align: right;\n",
       "    }\n",
       "</style>\n",
       "<table border=\"1\" class=\"dataframe\">\n",
       "  <thead>\n",
       "    <tr style=\"text-align: right;\">\n",
       "      <th></th>\n",
       "      <th>Timestamp</th>\n",
       "      <th>Age</th>\n",
       "      <th>Gender</th>\n",
       "      <th>City</th>\n",
       "      <th>Position</th>\n",
       "      <th>Years of experience</th>\n",
       "      <th>Your level</th>\n",
       "      <th>Current Salary</th>\n",
       "      <th>Salary one year ago</th>\n",
       "      <th>Salary two years ago</th>\n",
       "      <th>Are you getting any Stock Options?</th>\n",
       "      <th>Main language at work</th>\n",
       "      <th>Company size</th>\n",
       "      <th>Company type</th>\n",
       "    </tr>\n",
       "  </thead>\n",
       "  <tbody>\n",
       "    <tr>\n",
       "      <th>170</th>\n",
       "      <td>14/12/2018 16:37:06</td>\n",
       "      <td>35.0</td>\n",
       "      <td>M</td>\n",
       "      <td>Berlin</td>\n",
       "      <td>Developer</td>\n",
       "      <td>9.0</td>\n",
       "      <td>Senior</td>\n",
       "      <td>60000.0</td>\n",
       "      <td>60000.0</td>\n",
       "      <td>55000.0</td>\n",
       "      <td>Yes</td>\n",
       "      <td>English</td>\n",
       "      <td>up to 10</td>\n",
       "      <td>Startup</td>\n",
       "    </tr>\n",
       "    <tr>\n",
       "      <th>295</th>\n",
       "      <td>15/12/2018 11:04:08</td>\n",
       "      <td>37.0</td>\n",
       "      <td>M</td>\n",
       "      <td>Dresden</td>\n",
       "      <td>Developer</td>\n",
       "      <td>10.0</td>\n",
       "      <td>Senior</td>\n",
       "      <td>53000.0</td>\n",
       "      <td>51000.0</td>\n",
       "      <td>49000.0</td>\n",
       "      <td>No</td>\n",
       "      <td>Deutsch</td>\n",
       "      <td>100-1000</td>\n",
       "      <td>Product</td>\n",
       "    </tr>\n",
       "    <tr>\n",
       "      <th>423</th>\n",
       "      <td>17/12/2018 11:19:25</td>\n",
       "      <td>32.0</td>\n",
       "      <td>M</td>\n",
       "      <td>Berlin</td>\n",
       "      <td>Developer</td>\n",
       "      <td>12.0</td>\n",
       "      <td>Senior</td>\n",
       "      <td>66000.0</td>\n",
       "      <td>64000.0</td>\n",
       "      <td>60000.0</td>\n",
       "      <td>Yes</td>\n",
       "      <td>English</td>\n",
       "      <td>50-100</td>\n",
       "      <td>Startup</td>\n",
       "    </tr>\n",
       "    <tr>\n",
       "      <th>750</th>\n",
       "      <td>27/10/2019 09:25:28</td>\n",
       "      <td>25.0</td>\n",
       "      <td>M</td>\n",
       "      <td>München</td>\n",
       "      <td>Developer</td>\n",
       "      <td>4.0</td>\n",
       "      <td>Middle</td>\n",
       "      <td>60000.0</td>\n",
       "      <td>55000.0</td>\n",
       "      <td>0</td>\n",
       "      <td>No</td>\n",
       "      <td>English</td>\n",
       "      <td>1000+</td>\n",
       "      <td>Product</td>\n",
       "    </tr>\n",
       "  </tbody>\n",
       "</table>\n",
       "</div>"
      ],
      "text/plain": [
       "               Timestamp   Age Gender     City   Position Years of experience  \\\n",
       "170  14/12/2018 16:37:06  35.0      M   Berlin  Developer                 9.0   \n",
       "295  15/12/2018 11:04:08  37.0      M  Dresden  Developer                10.0   \n",
       "423  17/12/2018 11:19:25  32.0      M   Berlin  Developer                12.0   \n",
       "750  27/10/2019 09:25:28  25.0      M  München  Developer                 4.0   \n",
       "\n",
       "    Your level Current Salary Salary one year ago Salary two years ago  \\\n",
       "170     Senior        60000.0             60000.0              55000.0   \n",
       "295     Senior        53000.0             51000.0              49000.0   \n",
       "423     Senior        66000.0             64000.0              60000.0   \n",
       "750     Middle        60000.0             55000.0                    0   \n",
       "\n",
       "    Are you getting any Stock Options? Main language at work Company size  \\\n",
       "170                                Yes               English     up to 10   \n",
       "295                                 No               Deutsch     100-1000   \n",
       "423                                Yes               English       50-100   \n",
       "750                                 No               English        1000+   \n",
       "\n",
       "    Company type  \n",
       "170      Startup  \n",
       "295      Product  \n",
       "423      Startup  \n",
       "750      Product  "
      ]
     },
     "execution_count": 37,
     "metadata": {},
     "output_type": "execute_result"
    }
   ],
   "source": [
    "#Filter data\n",
    "\n",
    "df[df['Position']=='Developer'].head()"
   ]
  },
  {
   "cell_type": "code",
   "execution_count": 41,
   "metadata": {},
   "outputs": [
    {
     "data": {
      "text/html": [
       "<div>\n",
       "<style scoped>\n",
       "    .dataframe tbody tr th:only-of-type {\n",
       "        vertical-align: middle;\n",
       "    }\n",
       "\n",
       "    .dataframe tbody tr th {\n",
       "        vertical-align: top;\n",
       "    }\n",
       "\n",
       "    .dataframe thead th {\n",
       "        text-align: right;\n",
       "    }\n",
       "</style>\n",
       "<table border=\"1\" class=\"dataframe\">\n",
       "  <thead>\n",
       "    <tr style=\"text-align: right;\">\n",
       "      <th></th>\n",
       "    </tr>\n",
       "  </thead>\n",
       "  <tbody>\n",
       "  </tbody>\n",
       "</table>\n",
       "</div>"
      ],
      "text/plain": [
       "Empty DataFrame\n",
       "Columns: []\n",
       "Index: []"
      ]
     },
     "execution_count": 41,
     "metadata": {},
     "output_type": "execute_result"
    }
   ],
   "source": [
    "#Correlation \n",
    "\n",
    "df.corr()"
   ]
  },
  {
   "cell_type": "code",
   "execution_count": null,
   "metadata": {},
   "outputs": [],
   "source": []
  },
  {
   "cell_type": "code",
   "execution_count": null,
   "metadata": {},
   "outputs": [],
   "source": []
  },
  {
   "cell_type": "code",
   "execution_count": 6,
   "metadata": {},
   "outputs": [],
   "source": [
    "num1 =int(input(\"please enter first number...\"))\n",
    "num2 = int(input(\"enter the seconde number\"))\n",
    "sum = num1 + num2\n",
    "product = num1 * num2\n",
    "diff = num1 - num2\n",
    "div = num1 /num2\n",
    "\n",
    "print(\"The difference of two numbers is\",diff)"
   ]
  },
  {
   "cell_type": "code",
   "execution_count": null,
   "metadata": {},
   "outputs": [],
   "source": []
  },
  {
   "cell_type": "code",
   "execution_count": null,
   "metadata": {},
   "outputs": [],
   "source": [
    "print(\"The sum of two numbers is:\",sum)\n"
   ]
  },
  {
   "cell_type": "code",
   "execution_count": null,
   "metadata": {},
   "outputs": [],
   "source": []
  },
  {
   "cell_type": "code",
   "execution_count": null,
   "metadata": {},
   "outputs": [],
   "source": []
  },
  {
   "cell_type": "code",
   "execution_count": null,
   "metadata": {},
   "outputs": [],
   "source": []
  },
  {
   "cell_type": "code",
   "execution_count": null,
   "metadata": {},
   "outputs": [],
   "source": []
  },
  {
   "cell_type": "code",
   "execution_count": null,
   "metadata": {},
   "outputs": [],
   "source": []
  },
  {
   "cell_type": "code",
   "execution_count": null,
   "metadata": {},
   "outputs": [],
   "source": []
  },
  {
   "cell_type": "code",
   "execution_count": null,
   "metadata": {},
   "outputs": [],
   "source": []
  },
  {
   "cell_type": "code",
   "execution_count": null,
   "metadata": {},
   "outputs": [],
   "source": []
  },
  {
   "cell_type": "code",
   "execution_count": null,
   "metadata": {},
   "outputs": [],
   "source": []
  },
  {
   "cell_type": "code",
   "execution_count": null,
   "metadata": {},
   "outputs": [],
   "source": []
  },
  {
   "cell_type": "code",
   "execution_count": null,
   "metadata": {},
   "outputs": [],
   "source": []
  },
  {
   "cell_type": "code",
   "execution_count": null,
   "metadata": {},
   "outputs": [],
   "source": []
  },
  {
   "cell_type": "code",
   "execution_count": null,
   "metadata": {},
   "outputs": [],
   "source": []
  },
  {
   "cell_type": "code",
   "execution_count": null,
   "metadata": {},
   "outputs": [],
   "source": []
  },
  {
   "cell_type": "code",
   "execution_count": 4,
   "metadata": {},
   "outputs": [
    {
     "data": {
      "text/html": [
       "<div>\n",
       "<style scoped>\n",
       "    .dataframe tbody tr th:only-of-type {\n",
       "        vertical-align: middle;\n",
       "    }\n",
       "\n",
       "    .dataframe tbody tr th {\n",
       "        vertical-align: top;\n",
       "    }\n",
       "\n",
       "    .dataframe thead th {\n",
       "        text-align: right;\n",
       "    }\n",
       "</style>\n",
       "<table border=\"1\" class=\"dataframe\">\n",
       "  <thead>\n",
       "    <tr style=\"text-align: right;\">\n",
       "      <th></th>\n",
       "      <th>Timestamp</th>\n",
       "      <th>Age</th>\n",
       "      <th>Gender</th>\n",
       "      <th>City</th>\n",
       "      <th>Position</th>\n",
       "      <th>Years of experience</th>\n",
       "      <th>Your level</th>\n",
       "      <th>Current Salary</th>\n",
       "      <th>Salary one year ago</th>\n",
       "      <th>Salary two years ago</th>\n",
       "      <th>Are you getting any Stock Options?</th>\n",
       "      <th>Main language at work</th>\n",
       "      <th>Company size</th>\n",
       "      <th>Company type</th>\n",
       "    </tr>\n",
       "  </thead>\n",
       "  <tbody>\n",
       "    <tr>\n",
       "      <th>12</th>\n",
       "      <td>14/12/2018 12:59:58</td>\n",
       "      <td>31.0</td>\n",
       "      <td>F</td>\n",
       "      <td>Berlin</td>\n",
       "      <td>QA Lead</td>\n",
       "      <td>NaN</td>\n",
       "      <td>Senior</td>\n",
       "      <td>55000.0</td>\n",
       "      <td>NaN</td>\n",
       "      <td>NaN</td>\n",
       "      <td>No</td>\n",
       "      <td>English</td>\n",
       "      <td>10-50</td>\n",
       "      <td>Startup</td>\n",
       "    </tr>\n",
       "    <tr>\n",
       "      <th>29</th>\n",
       "      <td>14/12/2018 13:33:54</td>\n",
       "      <td>31.0</td>\n",
       "      <td>M</td>\n",
       "      <td>Berlin</td>\n",
       "      <td>iOS Developer</td>\n",
       "      <td>5.0</td>\n",
       "      <td>Middle</td>\n",
       "      <td>66000.0</td>\n",
       "      <td>NaN</td>\n",
       "      <td>NaN</td>\n",
       "      <td>No</td>\n",
       "      <td>English</td>\n",
       "      <td>1000+</td>\n",
       "      <td>Product</td>\n",
       "    </tr>\n",
       "    <tr>\n",
       "      <th>35</th>\n",
       "      <td>14/12/2018 13:44:05</td>\n",
       "      <td>31.0</td>\n",
       "      <td>M</td>\n",
       "      <td>München</td>\n",
       "      <td>Systems Administrator</td>\n",
       "      <td>1.0</td>\n",
       "      <td>Junior</td>\n",
       "      <td>36000.0</td>\n",
       "      <td>NaN</td>\n",
       "      <td>NaN</td>\n",
       "      <td>No</td>\n",
       "      <td>English</td>\n",
       "      <td>50-100</td>\n",
       "      <td>Startup</td>\n",
       "    </tr>\n",
       "    <tr>\n",
       "      <th>36</th>\n",
       "      <td>14/12/2018 13:44:09</td>\n",
       "      <td>31.0</td>\n",
       "      <td>M</td>\n",
       "      <td>München</td>\n",
       "      <td>Senior Software Developer</td>\n",
       "      <td>10.0</td>\n",
       "      <td>Senior</td>\n",
       "      <td>70000.0</td>\n",
       "      <td>60000.0</td>\n",
       "      <td>NaN</td>\n",
       "      <td>No</td>\n",
       "      <td>English</td>\n",
       "      <td>100-1000</td>\n",
       "      <td>Product</td>\n",
       "    </tr>\n",
       "    <tr>\n",
       "      <th>49</th>\n",
       "      <td>14/12/2018 13:47:36</td>\n",
       "      <td>31.0</td>\n",
       "      <td>M</td>\n",
       "      <td>Frankfurt</td>\n",
       "      <td>Ruby developer</td>\n",
       "      <td>11.0</td>\n",
       "      <td>Senior</td>\n",
       "      <td>65000.0</td>\n",
       "      <td>61000.0</td>\n",
       "      <td>55000.0</td>\n",
       "      <td>No</td>\n",
       "      <td>English</td>\n",
       "      <td>100-1000</td>\n",
       "      <td>Product</td>\n",
       "    </tr>\n",
       "  </tbody>\n",
       "</table>\n",
       "</div>"
      ],
      "text/plain": [
       "              Timestamp   Age Gender       City                   Position  \\\n",
       "12  14/12/2018 12:59:58  31.0      F     Berlin                    QA Lead   \n",
       "29  14/12/2018 13:33:54  31.0      M     Berlin             iOS Developer    \n",
       "35  14/12/2018 13:44:05  31.0      M    München      Systems Administrator   \n",
       "36  14/12/2018 13:44:09  31.0      M    München  Senior Software Developer   \n",
       "49  14/12/2018 13:47:36  31.0      M  Frankfurt             Ruby developer   \n",
       "\n",
       "    Years of experience Your level  Current Salary  Salary one year ago  \\\n",
       "12                  NaN     Senior         55000.0                  NaN   \n",
       "29                  5.0     Middle         66000.0                  NaN   \n",
       "35                  1.0     Junior         36000.0                  NaN   \n",
       "36                 10.0     Senior         70000.0              60000.0   \n",
       "49                 11.0     Senior         65000.0              61000.0   \n",
       "\n",
       "    Salary two years ago Are you getting any Stock Options?  \\\n",
       "12                   NaN                                 No   \n",
       "29                   NaN                                 No   \n",
       "35                   NaN                                 No   \n",
       "36                   NaN                                 No   \n",
       "49               55000.0                                 No   \n",
       "\n",
       "   Main language at work Company size Company type  \n",
       "12               English        10-50      Startup  \n",
       "29               English        1000+      Product  \n",
       "35               English       50-100      Startup  \n",
       "36               English     100-1000      Product  \n",
       "49               English     100-1000      Product  "
      ]
     },
     "execution_count": 4,
     "metadata": {},
     "output_type": "execute_result"
    }
   ],
   "source": [
    "#Filter data\n",
    "\n",
    "df[df['Age']==31].head()"
   ]
  },
  {
   "cell_type": "code",
   "execution_count": 6,
   "metadata": {},
   "outputs": [
    {
     "data": {
      "text/html": [
       "<div>\n",
       "<style scoped>\n",
       "    .dataframe tbody tr th:only-of-type {\n",
       "        vertical-align: middle;\n",
       "    }\n",
       "\n",
       "    .dataframe tbody tr th {\n",
       "        vertical-align: top;\n",
       "    }\n",
       "\n",
       "    .dataframe thead th {\n",
       "        text-align: right;\n",
       "    }\n",
       "</style>\n",
       "<table border=\"1\" class=\"dataframe\">\n",
       "  <thead>\n",
       "    <tr style=\"text-align: right;\">\n",
       "      <th></th>\n",
       "      <th>Timestamp</th>\n",
       "      <th>Age</th>\n",
       "      <th>Gender</th>\n",
       "      <th>City</th>\n",
       "      <th>Position</th>\n",
       "      <th>Years of experience</th>\n",
       "      <th>Your level</th>\n",
       "      <th>Current Salary</th>\n",
       "      <th>Salary one year ago</th>\n",
       "      <th>Salary two years ago</th>\n",
       "      <th>Are you getting any Stock Options?</th>\n",
       "      <th>Main language at work</th>\n",
       "      <th>Company size</th>\n",
       "      <th>Company type</th>\n",
       "    </tr>\n",
       "  </thead>\n",
       "  <tbody>\n",
       "    <tr>\n",
       "      <th>6</th>\n",
       "      <td>14/12/2018 12:53:47</td>\n",
       "      <td>NaN</td>\n",
       "      <td>M</td>\n",
       "      <td>Berlin</td>\n",
       "      <td>Senior Android Developer</td>\n",
       "      <td>5.0</td>\n",
       "      <td>Senior</td>\n",
       "      <td>65000.0</td>\n",
       "      <td>50000.0</td>\n",
       "      <td>50000.0</td>\n",
       "      <td>Yes</td>\n",
       "      <td>English</td>\n",
       "      <td>1000+</td>\n",
       "      <td>Product</td>\n",
       "    </tr>\n",
       "    <tr>\n",
       "      <th>8</th>\n",
       "      <td>14/12/2018 12:54:20</td>\n",
       "      <td>32.0</td>\n",
       "      <td>M</td>\n",
       "      <td>Berlin</td>\n",
       "      <td>Test Automation Engineer</td>\n",
       "      <td>3.0</td>\n",
       "      <td>Senior</td>\n",
       "      <td>65000.0</td>\n",
       "      <td>58000.0</td>\n",
       "      <td>50000.0</td>\n",
       "      <td>Yes</td>\n",
       "      <td>English</td>\n",
       "      <td>100-1000</td>\n",
       "      <td>Startup</td>\n",
       "    </tr>\n",
       "    <tr>\n",
       "      <th>10</th>\n",
       "      <td>14/12/2018 12:56:28</td>\n",
       "      <td>40.0</td>\n",
       "      <td>M</td>\n",
       "      <td>Berlin</td>\n",
       "      <td>Software Engineer</td>\n",
       "      <td>18.0</td>\n",
       "      <td>Senior</td>\n",
       "      <td>70000.0</td>\n",
       "      <td>57500.0</td>\n",
       "      <td>54000.0</td>\n",
       "      <td>No</td>\n",
       "      <td>English</td>\n",
       "      <td>100-1000</td>\n",
       "      <td>Product</td>\n",
       "    </tr>\n",
       "    <tr>\n",
       "      <th>12</th>\n",
       "      <td>14/12/2018 12:59:58</td>\n",
       "      <td>31.0</td>\n",
       "      <td>F</td>\n",
       "      <td>Berlin</td>\n",
       "      <td>QA Lead</td>\n",
       "      <td>NaN</td>\n",
       "      <td>Senior</td>\n",
       "      <td>55000.0</td>\n",
       "      <td>NaN</td>\n",
       "      <td>NaN</td>\n",
       "      <td>No</td>\n",
       "      <td>English</td>\n",
       "      <td>10-50</td>\n",
       "      <td>Startup</td>\n",
       "    </tr>\n",
       "    <tr>\n",
       "      <th>13</th>\n",
       "      <td>14/12/2018 13:00:13</td>\n",
       "      <td>29.0</td>\n",
       "      <td>M</td>\n",
       "      <td>Berlin</td>\n",
       "      <td>Front-end engineer</td>\n",
       "      <td>6.0</td>\n",
       "      <td>Middle</td>\n",
       "      <td>55000.0</td>\n",
       "      <td>55000.0</td>\n",
       "      <td>34000.0</td>\n",
       "      <td>No</td>\n",
       "      <td>English</td>\n",
       "      <td>100-1000</td>\n",
       "      <td>Product</td>\n",
       "    </tr>\n",
       "  </tbody>\n",
       "</table>\n",
       "</div>"
      ],
      "text/plain": [
       "              Timestamp   Age Gender    City                  Position  \\\n",
       "6   14/12/2018 12:53:47   NaN      M  Berlin  Senior Android Developer   \n",
       "8   14/12/2018 12:54:20  32.0      M  Berlin  Test Automation Engineer   \n",
       "10  14/12/2018 12:56:28  40.0      M  Berlin         Software Engineer   \n",
       "12  14/12/2018 12:59:58  31.0      F  Berlin                   QA Lead   \n",
       "13  14/12/2018 13:00:13  29.0      M  Berlin        Front-end engineer   \n",
       "\n",
       "    Years of experience Your level  Current Salary  Salary one year ago  \\\n",
       "6                   5.0     Senior         65000.0              50000.0   \n",
       "8                   3.0     Senior         65000.0              58000.0   \n",
       "10                 18.0     Senior         70000.0              57500.0   \n",
       "12                  NaN     Senior         55000.0                  NaN   \n",
       "13                  6.0     Middle         55000.0              55000.0   \n",
       "\n",
       "    Salary two years ago Are you getting any Stock Options?  \\\n",
       "6                50000.0                                Yes   \n",
       "8                50000.0                                Yes   \n",
       "10               54000.0                                 No   \n",
       "12                   NaN                                 No   \n",
       "13               34000.0                                 No   \n",
       "\n",
       "   Main language at work Company size Company type  \n",
       "6                English        1000+      Product  \n",
       "8                English     100-1000      Startup  \n",
       "10               English     100-1000      Product  \n",
       "12               English        10-50      Startup  \n",
       "13               English     100-1000      Product  "
      ]
     },
     "execution_count": 6,
     "metadata": {},
     "output_type": "execute_result"
    }
   ],
   "source": [
    "df[df['City']=='Berlin'].head()"
   ]
  },
  {
   "cell_type": "code",
   "execution_count": 8,
   "metadata": {},
   "outputs": [
    {
     "name": "stderr",
     "output_type": "stream",
     "text": [
      "C:\\Users\\777\\AppData\\Local\\Temp/ipykernel_26792/237803293.py:1: FutureWarning: Dropping of nuisance columns in DataFrame reductions (with 'numeric_only=None') is deprecated; in a future version this will raise TypeError.  Select only valid columns before calling the reduction.\n",
      "  df[df['Age'] <= 30].mean()\n"
     ]
    },
    {
     "data": {
      "text/plain": [
       "Age                        27.701887\n",
       "Years of experience         5.746183\n",
       "Current Salary          62560.403774\n",
       "Salary one year ago     54947.492462\n",
       "Salary two years ago    49964.165414\n",
       "dtype: float64"
      ]
     },
     "execution_count": 8,
     "metadata": {},
     "output_type": "execute_result"
    }
   ],
   "source": [
    "df[df['Age'] <= 30].mean()"
   ]
  },
  {
   "cell_type": "code",
   "execution_count": 5,
   "metadata": {},
   "outputs": [
    {
     "name": "stderr",
     "output_type": "stream",
     "text": [
      "C:\\Users\\777\\AppData\\Local\\Temp/ipykernel_3520/1672352935.py:1: FutureWarning: Dropping of nuisance columns in DataFrame reductions (with 'numeric_only=None') is deprecated; in a future version this will raise TypeError.  Select only valid columns before calling the reduction.\n",
      "  df[df['Age']>=31].mean()\n"
     ]
    },
    {
     "data": {
      "text/plain": [
       "Age                        35.100737\n",
       "Years of experience        10.464646\n",
       "Current Salary          72450.862069\n",
       "Salary one year ago     67038.358209\n",
       "Salary two years ago    62606.654676\n",
       "dtype: float64"
      ]
     },
     "execution_count": 5,
     "metadata": {},
     "output_type": "execute_result"
    }
   ],
   "source": [
    "df[df['Age']>=31].mean()"
   ]
  },
  {
   "cell_type": "code",
   "execution_count": null,
   "metadata": {},
   "outputs": [],
   "source": []
  },
  {
   "cell_type": "code",
   "execution_count": null,
   "metadata": {},
   "outputs": [],
   "source": []
  },
  {
   "cell_type": "code",
   "execution_count": 11,
   "metadata": {},
   "outputs": [
    {
     "data": {
      "text/html": [
       "<div>\n",
       "<style scoped>\n",
       "    .dataframe tbody tr th:only-of-type {\n",
       "        vertical-align: middle;\n",
       "    }\n",
       "\n",
       "    .dataframe tbody tr th {\n",
       "        vertical-align: top;\n",
       "    }\n",
       "\n",
       "    .dataframe thead th {\n",
       "        text-align: right;\n",
       "    }\n",
       "</style>\n",
       "<table border=\"1\" class=\"dataframe\">\n",
       "  <thead>\n",
       "    <tr style=\"text-align: right;\">\n",
       "      <th></th>\n",
       "      <th>Timestamp</th>\n",
       "      <th>Age</th>\n",
       "      <th>Gender</th>\n",
       "      <th>City</th>\n",
       "      <th>Position</th>\n",
       "      <th>Years of experience</th>\n",
       "      <th>Your level</th>\n",
       "      <th>Current Salary</th>\n",
       "      <th>Salary one year ago</th>\n",
       "      <th>Salary two years ago</th>\n",
       "      <th>Are you getting any Stock Options?</th>\n",
       "      <th>Main language at work</th>\n",
       "      <th>Company size</th>\n",
       "      <th>Company type</th>\n",
       "    </tr>\n",
       "  </thead>\n",
       "  <tbody>\n",
       "    <tr>\n",
       "      <th>170</th>\n",
       "      <td>14/12/2018 16:37:06</td>\n",
       "      <td>35.0</td>\n",
       "      <td>M</td>\n",
       "      <td>Berlin</td>\n",
       "      <td>Developer</td>\n",
       "      <td>9.0</td>\n",
       "      <td>Senior</td>\n",
       "      <td>60000.0</td>\n",
       "      <td>60000.0</td>\n",
       "      <td>55000.0</td>\n",
       "      <td>Yes</td>\n",
       "      <td>English</td>\n",
       "      <td>up to 10</td>\n",
       "      <td>Startup</td>\n",
       "    </tr>\n",
       "    <tr>\n",
       "      <th>295</th>\n",
       "      <td>15/12/2018 11:04:08</td>\n",
       "      <td>37.0</td>\n",
       "      <td>M</td>\n",
       "      <td>Dresden</td>\n",
       "      <td>Developer</td>\n",
       "      <td>10.0</td>\n",
       "      <td>Senior</td>\n",
       "      <td>53000.0</td>\n",
       "      <td>51000.0</td>\n",
       "      <td>49000.0</td>\n",
       "      <td>No</td>\n",
       "      <td>Deutsch</td>\n",
       "      <td>100-1000</td>\n",
       "      <td>Product</td>\n",
       "    </tr>\n",
       "    <tr>\n",
       "      <th>423</th>\n",
       "      <td>17/12/2018 11:19:25</td>\n",
       "      <td>32.0</td>\n",
       "      <td>M</td>\n",
       "      <td>Berlin</td>\n",
       "      <td>Developer</td>\n",
       "      <td>12.0</td>\n",
       "      <td>Senior</td>\n",
       "      <td>66000.0</td>\n",
       "      <td>64000.0</td>\n",
       "      <td>60000.0</td>\n",
       "      <td>Yes</td>\n",
       "      <td>English</td>\n",
       "      <td>50-100</td>\n",
       "      <td>Startup</td>\n",
       "    </tr>\n",
       "    <tr>\n",
       "      <th>750</th>\n",
       "      <td>27/10/2019 09:25:28</td>\n",
       "      <td>25.0</td>\n",
       "      <td>M</td>\n",
       "      <td>München</td>\n",
       "      <td>Developer</td>\n",
       "      <td>4.0</td>\n",
       "      <td>Middle</td>\n",
       "      <td>60000.0</td>\n",
       "      <td>55000.0</td>\n",
       "      <td>NaN</td>\n",
       "      <td>No</td>\n",
       "      <td>English</td>\n",
       "      <td>1000+</td>\n",
       "      <td>Product</td>\n",
       "    </tr>\n",
       "  </tbody>\n",
       "</table>\n",
       "</div>"
      ],
      "text/plain": [
       "               Timestamp   Age Gender     City   Position  \\\n",
       "170  14/12/2018 16:37:06  35.0      M   Berlin  Developer   \n",
       "295  15/12/2018 11:04:08  37.0      M  Dresden  Developer   \n",
       "423  17/12/2018 11:19:25  32.0      M   Berlin  Developer   \n",
       "750  27/10/2019 09:25:28  25.0      M  München  Developer   \n",
       "\n",
       "     Years of experience Your level  Current Salary  Salary one year ago  \\\n",
       "170                  9.0     Senior         60000.0              60000.0   \n",
       "295                 10.0     Senior         53000.0              51000.0   \n",
       "423                 12.0     Senior         66000.0              64000.0   \n",
       "750                  4.0     Middle         60000.0              55000.0   \n",
       "\n",
       "     Salary two years ago Are you getting any Stock Options?  \\\n",
       "170               55000.0                                Yes   \n",
       "295               49000.0                                 No   \n",
       "423               60000.0                                Yes   \n",
       "750                   NaN                                 No   \n",
       "\n",
       "    Main language at work Company size Company type  \n",
       "170               English     up to 10      Startup  \n",
       "295               Deutsch     100-1000      Product  \n",
       "423               English       50-100      Startup  \n",
       "750               English        1000+      Product  "
      ]
     },
     "execution_count": 11,
     "metadata": {},
     "output_type": "execute_result"
    }
   ],
   "source": [
    "df[df['Position']=='Developer']"
   ]
  },
  {
   "cell_type": "code",
   "execution_count": 13,
   "metadata": {},
   "outputs": [
    {
     "data": {
      "text/html": [
       "<div>\n",
       "<style scoped>\n",
       "    .dataframe tbody tr th:only-of-type {\n",
       "        vertical-align: middle;\n",
       "    }\n",
       "\n",
       "    .dataframe tbody tr th {\n",
       "        vertical-align: top;\n",
       "    }\n",
       "\n",
       "    .dataframe thead th {\n",
       "        text-align: right;\n",
       "    }\n",
       "</style>\n",
       "<table border=\"1\" class=\"dataframe\">\n",
       "  <thead>\n",
       "    <tr style=\"text-align: right;\">\n",
       "      <th></th>\n",
       "      <th>Timestamp</th>\n",
       "      <th>Age</th>\n",
       "      <th>Gender</th>\n",
       "      <th>City</th>\n",
       "      <th>Position</th>\n",
       "      <th>Years of experience</th>\n",
       "      <th>Your level</th>\n",
       "      <th>Current Salary</th>\n",
       "      <th>Salary one year ago</th>\n",
       "      <th>Salary two years ago</th>\n",
       "      <th>Are you getting any Stock Options?</th>\n",
       "      <th>Main language at work</th>\n",
       "      <th>Company size</th>\n",
       "      <th>Company type</th>\n",
       "    </tr>\n",
       "  </thead>\n",
       "  <tbody>\n",
       "    <tr>\n",
       "      <th>12</th>\n",
       "      <td>14/12/2018 12:59:58</td>\n",
       "      <td>31.0</td>\n",
       "      <td>F</td>\n",
       "      <td>Berlin</td>\n",
       "      <td>QA Lead</td>\n",
       "      <td>NaN</td>\n",
       "      <td>Senior</td>\n",
       "      <td>55000.0</td>\n",
       "      <td>NaN</td>\n",
       "      <td>NaN</td>\n",
       "      <td>No</td>\n",
       "      <td>English</td>\n",
       "      <td>10-50</td>\n",
       "      <td>Startup</td>\n",
       "    </tr>\n",
       "    <tr>\n",
       "      <th>287</th>\n",
       "      <td>15/12/2018 10:47:27</td>\n",
       "      <td>26.0</td>\n",
       "      <td>M</td>\n",
       "      <td>Berlin</td>\n",
       "      <td>QA Lead</td>\n",
       "      <td>7.0</td>\n",
       "      <td>Senior</td>\n",
       "      <td>60000.0</td>\n",
       "      <td>NaN</td>\n",
       "      <td>NaN</td>\n",
       "      <td>No</td>\n",
       "      <td>English</td>\n",
       "      <td>100-1000</td>\n",
       "      <td>Product</td>\n",
       "    </tr>\n",
       "    <tr>\n",
       "      <th>571</th>\n",
       "      <td>19/12/2018 16:37:02</td>\n",
       "      <td>32.0</td>\n",
       "      <td>F</td>\n",
       "      <td>Hamburg</td>\n",
       "      <td>QA Lead</td>\n",
       "      <td>10.0</td>\n",
       "      <td>NaN</td>\n",
       "      <td>65000.0</td>\n",
       "      <td>65000.0</td>\n",
       "      <td>55000.0</td>\n",
       "      <td>Yes</td>\n",
       "      <td>English</td>\n",
       "      <td>50-100</td>\n",
       "      <td>Startup</td>\n",
       "    </tr>\n",
       "    <tr>\n",
       "      <th>658</th>\n",
       "      <td>23/12/2018 15:33:22</td>\n",
       "      <td>34.0</td>\n",
       "      <td>M</td>\n",
       "      <td>Berlin</td>\n",
       "      <td>QA Lead</td>\n",
       "      <td>10.0</td>\n",
       "      <td>Senior</td>\n",
       "      <td>65000.0</td>\n",
       "      <td>60000.0</td>\n",
       "      <td>NaN</td>\n",
       "      <td>Yes</td>\n",
       "      <td>English</td>\n",
       "      <td>50-100</td>\n",
       "      <td>Product</td>\n",
       "    </tr>\n",
       "  </tbody>\n",
       "</table>\n",
       "</div>"
      ],
      "text/plain": [
       "               Timestamp   Age Gender     City Position  Years of experience  \\\n",
       "12   14/12/2018 12:59:58  31.0      F   Berlin  QA Lead                  NaN   \n",
       "287  15/12/2018 10:47:27  26.0      M   Berlin  QA Lead                  7.0   \n",
       "571  19/12/2018 16:37:02  32.0      F  Hamburg  QA Lead                 10.0   \n",
       "658  23/12/2018 15:33:22  34.0      M   Berlin  QA Lead                 10.0   \n",
       "\n",
       "    Your level  Current Salary  Salary one year ago  Salary two years ago  \\\n",
       "12      Senior         55000.0                  NaN                   NaN   \n",
       "287     Senior         60000.0                  NaN                   NaN   \n",
       "571        NaN         65000.0              65000.0               55000.0   \n",
       "658     Senior         65000.0              60000.0                   NaN   \n",
       "\n",
       "    Are you getting any Stock Options? Main language at work Company size  \\\n",
       "12                                  No               English        10-50   \n",
       "287                                 No               English     100-1000   \n",
       "571                                Yes               English       50-100   \n",
       "658                                Yes               English       50-100   \n",
       "\n",
       "    Company type  \n",
       "12       Startup  \n",
       "287      Product  \n",
       "571      Startup  \n",
       "658      Product  "
      ]
     },
     "execution_count": 13,
     "metadata": {},
     "output_type": "execute_result"
    }
   ],
   "source": [
    "df[df['Position']=='QA Lead']"
   ]
  },
  {
   "cell_type": "code",
   "execution_count": 14,
   "metadata": {},
   "outputs": [
    {
     "data": {
      "text/plain": [
       "Timestamp                             14/12/2018 16:37:06\n",
       "Age                                                  25.0\n",
       "Gender                                                  M\n",
       "City                                               Berlin\n",
       "Position                                        Developer\n",
       "Years of experience                                   4.0\n",
       "Your level                                         Middle\n",
       "Current Salary                                    53000.0\n",
       "Salary one year ago                               51000.0\n",
       "Salary two years ago                              49000.0\n",
       "Are you getting any Stock Options?                     No\n",
       "Main language at work                             Deutsch\n",
       "Company size                                     100-1000\n",
       "Company type                                      Product\n",
       "dtype: object"
      ]
     },
     "execution_count": 14,
     "metadata": {},
     "output_type": "execute_result"
    }
   ],
   "source": [
    "df[df['Position']=='Developer'].min()"
   ]
  },
  {
   "cell_type": "code",
   "execution_count": 15,
   "metadata": {},
   "outputs": [
    {
     "data": {
      "text/plain": [
       "Timestamp                             27/10/2019 09:25:28\n",
       "Age                                                  37.0\n",
       "Gender                                                  M\n",
       "City                                              München\n",
       "Position                                        Developer\n",
       "Years of experience                                  12.0\n",
       "Your level                                         Senior\n",
       "Current Salary                                    66000.0\n",
       "Salary one year ago                               64000.0\n",
       "Salary two years ago                              60000.0\n",
       "Are you getting any Stock Options?                    Yes\n",
       "Main language at work                             English\n",
       "Company size                                     up to 10\n",
       "Company type                                      Startup\n",
       "dtype: object"
      ]
     },
     "execution_count": 15,
     "metadata": {},
     "output_type": "execute_result"
    }
   ],
   "source": [
    "df[df['Position']=='Developer'].max()"
   ]
  },
  {
   "cell_type": "code",
   "execution_count": 16,
   "metadata": {},
   "outputs": [
    {
     "name": "stderr",
     "output_type": "stream",
     "text": [
      "C:\\Users\\777\\AppData\\Local\\Temp/ipykernel_26792/1292872756.py:1: FutureWarning: Dropping of nuisance columns in DataFrame reductions (with 'numeric_only=None') is deprecated; in a future version this will raise TypeError.  Select only valid columns before calling the reduction.\n",
      "  df[df['Salary two years ago']>= 55000].max()\n"
     ]
    },
    {
     "data": {
      "text/plain": [
       "Timestamp                31/12/2018 07:45:22\n",
       "Age                                     60.0\n",
       "Years of experience                     38.0\n",
       "Current Salary                      200000.0\n",
       "Salary one year ago                 200000.0\n",
       "Salary two years ago                150000.0\n",
       "Main language at work                Russian\n",
       "dtype: object"
      ]
     },
     "execution_count": 16,
     "metadata": {},
     "output_type": "execute_result"
    }
   ],
   "source": [
    "df[df['Salary two years ago']>= 55000].max()"
   ]
  },
  {
   "cell_type": "code",
   "execution_count": 17,
   "metadata": {},
   "outputs": [
    {
     "name": "stderr",
     "output_type": "stream",
     "text": [
      "C:\\Users\\777\\AppData\\Local\\Temp/ipykernel_26792/2680000354.py:1: FutureWarning: Dropping of nuisance columns in DataFrame reductions (with 'numeric_only=None') is deprecated; in a future version this will raise TypeError.  Select only valid columns before calling the reduction.\n",
      "  df[df['Salary two years ago']>= 55000].min()\n"
     ]
    },
    {
     "data": {
      "text/plain": [
       "Timestamp                01/01/2019 10:19:48\n",
       "Age                                     22.0\n",
       "Years of experience                      0.0\n",
       "Current Salary                       54000.0\n",
       "Salary one year ago                  55000.0\n",
       "Salary two years ago                 55000.0\n",
       "Main language at work                Deutsch\n",
       "dtype: object"
      ]
     },
     "execution_count": 17,
     "metadata": {},
     "output_type": "execute_result"
    }
   ],
   "source": [
    "df[df['Salary two years ago']>= 55000].min()"
   ]
  },
  {
   "cell_type": "code",
   "execution_count": 4,
   "metadata": {},
   "outputs": [
    {
     "name": "stderr",
     "output_type": "stream",
     "text": [
      "C:\\Users\\777\\AppData\\Local\\Temp/ipykernel_3520/4029608983.py:1: FutureWarning: Dropping of nuisance columns in DataFrame reductions (with 'numeric_only=None') is deprecated; in a future version this will raise TypeError.  Select only valid columns before calling the reduction.\n",
      "  df[df['Salary one year ago']>= 55000].min()\n"
     ]
    },
    {
     "data": {
      "text/plain": [
       "Timestamp                01/01/2019 10:19:48\n",
       "Age                                     21.0\n",
       "Years of experience                      0.0\n",
       "Current Salary                       54000.0\n",
       "Salary one year ago                  55000.0\n",
       "Salary two years ago                 10001.0\n",
       "Main language at work                Deutsch\n",
       "dtype: object"
      ]
     },
     "execution_count": 4,
     "metadata": {},
     "output_type": "execute_result"
    }
   ],
   "source": [
    "df[df['Salary one year ago']>= 55000].min()"
   ]
  },
  {
   "cell_type": "code",
   "execution_count": null,
   "metadata": {},
   "outputs": [],
   "source": []
  },
  {
   "cell_type": "code",
   "execution_count": 19,
   "metadata": {},
   "outputs": [
    {
     "name": "stdout",
     "output_type": "stream",
     "text": [
      "Hagernesh Tadesse\n"
     ]
    }
   ],
   "source": [
    "name = \"Hagernesh Tadesse\"\n",
    "print(name)"
   ]
  },
  {
   "cell_type": "code",
   "execution_count": null,
   "metadata": {},
   "outputs": [],
   "source": []
  },
  {
   "cell_type": "code",
   "execution_count": null,
   "metadata": {},
   "outputs": [],
   "source": []
  },
  {
   "cell_type": "code",
   "execution_count": null,
   "metadata": {},
   "outputs": [],
   "source": []
  },
  {
   "cell_type": "code",
   "execution_count": null,
   "metadata": {},
   "outputs": [],
   "source": []
  },
  {
   "cell_type": "code",
   "execution_count": null,
   "metadata": {},
   "outputs": [],
   "source": []
  },
  {
   "cell_type": "code",
   "execution_count": null,
   "metadata": {},
   "outputs": [],
   "source": []
  },
  {
   "cell_type": "code",
   "execution_count": null,
   "metadata": {},
   "outputs": [],
   "source": []
  },
  {
   "cell_type": "code",
   "execution_count": null,
   "metadata": {},
   "outputs": [],
   "source": []
  },
  {
   "cell_type": "code",
   "execution_count": null,
   "metadata": {},
   "outputs": [],
   "source": []
  },
  {
   "cell_type": "code",
   "execution_count": null,
   "metadata": {},
   "outputs": [],
   "source": []
  },
  {
   "cell_type": "code",
   "execution_count": null,
   "metadata": {},
   "outputs": [],
   "source": []
  },
  {
   "cell_type": "code",
   "execution_count": null,
   "metadata": {},
   "outputs": [],
   "source": []
  },
  {
   "cell_type": "code",
   "execution_count": null,
   "metadata": {},
   "outputs": [],
   "source": []
  },
  {
   "cell_type": "code",
   "execution_count": null,
   "metadata": {},
   "outputs": [],
   "source": []
  },
  {
   "cell_type": "code",
   "execution_count": null,
   "metadata": {},
   "outputs": [],
   "source": []
  },
  {
   "cell_type": "code",
   "execution_count": null,
   "metadata": {},
   "outputs": [],
   "source": []
  },
  {
   "cell_type": "code",
   "execution_count": null,
   "metadata": {},
   "outputs": [],
   "source": []
  },
  {
   "cell_type": "code",
   "execution_count": null,
   "metadata": {},
   "outputs": [],
   "source": []
  },
  {
   "cell_type": "code",
   "execution_count": null,
   "metadata": {},
   "outputs": [],
   "source": []
  },
  {
   "cell_type": "code",
   "execution_count": null,
   "metadata": {},
   "outputs": [],
   "source": []
  },
  {
   "cell_type": "code",
   "execution_count": null,
   "metadata": {},
   "outputs": [],
   "source": []
  },
  {
   "cell_type": "code",
   "execution_count": null,
   "metadata": {},
   "outputs": [],
   "source": []
  },
  {
   "cell_type": "code",
   "execution_count": null,
   "metadata": {},
   "outputs": [],
   "source": []
  }
 ],
 "metadata": {
  "kernelspec": {
   "display_name": "Python 3.9.7 ('base')",
   "language": "python",
   "name": "python3"
  },
  "language_info": {
   "codemirror_mode": {
    "name": "ipython",
    "version": 3
   },
   "file_extension": ".py",
   "mimetype": "text/x-python",
   "name": "python",
   "nbconvert_exporter": "python",
   "pygments_lexer": "ipython3",
   "version": "3.9.7"
  },
  "orig_nbformat": 4,
  "vscode": {
   "interpreter": {
    "hash": "290228305b1684d7756d3539d045875a1db9e3d5b7bd79cff737e2b38847d5e8"
   }
  }
 },
 "nbformat": 4,
 "nbformat_minor": 2
}
